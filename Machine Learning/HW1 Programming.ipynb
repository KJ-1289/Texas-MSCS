{
 "cells": [
  {
   "cell_type": "code",
   "execution_count": 1,
   "metadata": {
    "colab": {},
    "colab_type": "code",
    "id": "9kIqgkMgEXab"
   },
   "outputs": [],
   "source": [
    "import matplotlib.pyplot as plt\n",
    "from sklearn import tree, ensemble\n",
    "from sklearn.model_selection import cross_val_score, train_test_split\n",
    "from sklearn import datasets\n",
    "from sklearn.datasets import load_breast_cancer\n",
    "\n",
    "#Additional packages loaded\n",
    "import numpy as np\n",
    "import pandas as pd\n",
    "from sklearn.metrics import accuracy_score"
   ]
  },
  {
   "cell_type": "markdown",
   "metadata": {},
   "source": [
    "(a) Use the breast cancer data set from Homework 0 to create a training set.\n",
    "Recall that the label is 0 if the patient has breast cancer and 1 otherwise.\n",
    "Compute the base rate of cancer occurrence over the entire data set."
   ]
  },
  {
   "cell_type": "code",
   "execution_count": 2,
   "metadata": {},
   "outputs": [
    {
     "data": {
      "text/html": [
       "<div>\n",
       "<style scoped>\n",
       "    .dataframe tbody tr th:only-of-type {\n",
       "        vertical-align: middle;\n",
       "    }\n",
       "\n",
       "    .dataframe tbody tr th {\n",
       "        vertical-align: top;\n",
       "    }\n",
       "\n",
       "    .dataframe thead th {\n",
       "        text-align: right;\n",
       "    }\n",
       "</style>\n",
       "<table border=\"1\" class=\"dataframe\">\n",
       "  <thead>\n",
       "    <tr style=\"text-align: right;\">\n",
       "      <th></th>\n",
       "      <th>mean radius</th>\n",
       "      <th>mean texture</th>\n",
       "      <th>mean perimeter</th>\n",
       "      <th>mean area</th>\n",
       "      <th>mean smoothness</th>\n",
       "      <th>mean compactness</th>\n",
       "      <th>mean concavity</th>\n",
       "      <th>mean concave points</th>\n",
       "      <th>mean symmetry</th>\n",
       "      <th>mean fractal dimension</th>\n",
       "      <th>...</th>\n",
       "      <th>worst texture</th>\n",
       "      <th>worst perimeter</th>\n",
       "      <th>worst area</th>\n",
       "      <th>worst smoothness</th>\n",
       "      <th>worst compactness</th>\n",
       "      <th>worst concavity</th>\n",
       "      <th>worst concave points</th>\n",
       "      <th>worst symmetry</th>\n",
       "      <th>worst fractal dimension</th>\n",
       "      <th>target</th>\n",
       "    </tr>\n",
       "  </thead>\n",
       "  <tbody>\n",
       "    <tr>\n",
       "      <th>0</th>\n",
       "      <td>17.99</td>\n",
       "      <td>10.38</td>\n",
       "      <td>122.80</td>\n",
       "      <td>1001.0</td>\n",
       "      <td>0.11840</td>\n",
       "      <td>0.27760</td>\n",
       "      <td>0.3001</td>\n",
       "      <td>0.14710</td>\n",
       "      <td>0.2419</td>\n",
       "      <td>0.07871</td>\n",
       "      <td>...</td>\n",
       "      <td>17.33</td>\n",
       "      <td>184.60</td>\n",
       "      <td>2019.0</td>\n",
       "      <td>0.1622</td>\n",
       "      <td>0.6656</td>\n",
       "      <td>0.7119</td>\n",
       "      <td>0.2654</td>\n",
       "      <td>0.4601</td>\n",
       "      <td>0.11890</td>\n",
       "      <td>0.0</td>\n",
       "    </tr>\n",
       "    <tr>\n",
       "      <th>1</th>\n",
       "      <td>20.57</td>\n",
       "      <td>17.77</td>\n",
       "      <td>132.90</td>\n",
       "      <td>1326.0</td>\n",
       "      <td>0.08474</td>\n",
       "      <td>0.07864</td>\n",
       "      <td>0.0869</td>\n",
       "      <td>0.07017</td>\n",
       "      <td>0.1812</td>\n",
       "      <td>0.05667</td>\n",
       "      <td>...</td>\n",
       "      <td>23.41</td>\n",
       "      <td>158.80</td>\n",
       "      <td>1956.0</td>\n",
       "      <td>0.1238</td>\n",
       "      <td>0.1866</td>\n",
       "      <td>0.2416</td>\n",
       "      <td>0.1860</td>\n",
       "      <td>0.2750</td>\n",
       "      <td>0.08902</td>\n",
       "      <td>0.0</td>\n",
       "    </tr>\n",
       "    <tr>\n",
       "      <th>2</th>\n",
       "      <td>19.69</td>\n",
       "      <td>21.25</td>\n",
       "      <td>130.00</td>\n",
       "      <td>1203.0</td>\n",
       "      <td>0.10960</td>\n",
       "      <td>0.15990</td>\n",
       "      <td>0.1974</td>\n",
       "      <td>0.12790</td>\n",
       "      <td>0.2069</td>\n",
       "      <td>0.05999</td>\n",
       "      <td>...</td>\n",
       "      <td>25.53</td>\n",
       "      <td>152.50</td>\n",
       "      <td>1709.0</td>\n",
       "      <td>0.1444</td>\n",
       "      <td>0.4245</td>\n",
       "      <td>0.4504</td>\n",
       "      <td>0.2430</td>\n",
       "      <td>0.3613</td>\n",
       "      <td>0.08758</td>\n",
       "      <td>0.0</td>\n",
       "    </tr>\n",
       "    <tr>\n",
       "      <th>3</th>\n",
       "      <td>11.42</td>\n",
       "      <td>20.38</td>\n",
       "      <td>77.58</td>\n",
       "      <td>386.1</td>\n",
       "      <td>0.14250</td>\n",
       "      <td>0.28390</td>\n",
       "      <td>0.2414</td>\n",
       "      <td>0.10520</td>\n",
       "      <td>0.2597</td>\n",
       "      <td>0.09744</td>\n",
       "      <td>...</td>\n",
       "      <td>26.50</td>\n",
       "      <td>98.87</td>\n",
       "      <td>567.7</td>\n",
       "      <td>0.2098</td>\n",
       "      <td>0.8663</td>\n",
       "      <td>0.6869</td>\n",
       "      <td>0.2575</td>\n",
       "      <td>0.6638</td>\n",
       "      <td>0.17300</td>\n",
       "      <td>0.0</td>\n",
       "    </tr>\n",
       "    <tr>\n",
       "      <th>4</th>\n",
       "      <td>20.29</td>\n",
       "      <td>14.34</td>\n",
       "      <td>135.10</td>\n",
       "      <td>1297.0</td>\n",
       "      <td>0.10030</td>\n",
       "      <td>0.13280</td>\n",
       "      <td>0.1980</td>\n",
       "      <td>0.10430</td>\n",
       "      <td>0.1809</td>\n",
       "      <td>0.05883</td>\n",
       "      <td>...</td>\n",
       "      <td>16.67</td>\n",
       "      <td>152.20</td>\n",
       "      <td>1575.0</td>\n",
       "      <td>0.1374</td>\n",
       "      <td>0.2050</td>\n",
       "      <td>0.4000</td>\n",
       "      <td>0.1625</td>\n",
       "      <td>0.2364</td>\n",
       "      <td>0.07678</td>\n",
       "      <td>0.0</td>\n",
       "    </tr>\n",
       "  </tbody>\n",
       "</table>\n",
       "<p>5 rows × 31 columns</p>\n",
       "</div>"
      ],
      "text/plain": [
       "   mean radius  mean texture  mean perimeter  mean area  mean smoothness  \\\n",
       "0        17.99         10.38          122.80     1001.0          0.11840   \n",
       "1        20.57         17.77          132.90     1326.0          0.08474   \n",
       "2        19.69         21.25          130.00     1203.0          0.10960   \n",
       "3        11.42         20.38           77.58      386.1          0.14250   \n",
       "4        20.29         14.34          135.10     1297.0          0.10030   \n",
       "\n",
       "   mean compactness  mean concavity  mean concave points  mean symmetry  \\\n",
       "0           0.27760          0.3001              0.14710         0.2419   \n",
       "1           0.07864          0.0869              0.07017         0.1812   \n",
       "2           0.15990          0.1974              0.12790         0.2069   \n",
       "3           0.28390          0.2414              0.10520         0.2597   \n",
       "4           0.13280          0.1980              0.10430         0.1809   \n",
       "\n",
       "   mean fractal dimension  ...  worst texture  worst perimeter  worst area  \\\n",
       "0                 0.07871  ...          17.33           184.60      2019.0   \n",
       "1                 0.05667  ...          23.41           158.80      1956.0   \n",
       "2                 0.05999  ...          25.53           152.50      1709.0   \n",
       "3                 0.09744  ...          26.50            98.87       567.7   \n",
       "4                 0.05883  ...          16.67           152.20      1575.0   \n",
       "\n",
       "   worst smoothness  worst compactness  worst concavity  worst concave points  \\\n",
       "0            0.1622             0.6656           0.7119                0.2654   \n",
       "1            0.1238             0.1866           0.2416                0.1860   \n",
       "2            0.1444             0.4245           0.4504                0.2430   \n",
       "3            0.2098             0.8663           0.6869                0.2575   \n",
       "4            0.1374             0.2050           0.4000                0.1625   \n",
       "\n",
       "   worst symmetry  worst fractal dimension  target  \n",
       "0          0.4601                  0.11890     0.0  \n",
       "1          0.2750                  0.08902     0.0  \n",
       "2          0.3613                  0.08758     0.0  \n",
       "3          0.6638                  0.17300     0.0  \n",
       "4          0.2364                  0.07678     0.0  \n",
       "\n",
       "[5 rows x 31 columns]"
      ]
     },
     "execution_count": 2,
     "metadata": {},
     "output_type": "execute_result"
    }
   ],
   "source": [
    "#Function for converting breast cancer data into a Pandas dataframe\n",
    "def cancer_df():\n",
    "    cancer = load_breast_cancer()     \n",
    "    data = np.c_[cancer.data, cancer.target]\n",
    "    columns = np.append(cancer.feature_names, [\"target\"])\n",
    "    return pd.DataFrame(data, columns=columns)\n",
    "df = cancer_df()\n",
    "df.head()"
   ]
  },
  {
   "cell_type": "code",
   "execution_count": 3,
   "metadata": {},
   "outputs": [
    {
     "data": {
      "text/plain": [
       "1.0    357\n",
       "0.0    212\n",
       "Name: target, dtype: int64"
      ]
     },
     "execution_count": 3,
     "metadata": {},
     "output_type": "execute_result"
    }
   ],
   "source": [
    "#Checking the value counts of the target variable\n",
    "# 0 = breast cancer\n",
    "# 1 = not cancer\n",
    "df['target'].value_counts()"
   ]
  },
  {
   "cell_type": "code",
   "execution_count": 4,
   "metadata": {},
   "outputs": [
    {
     "name": "stdout",
     "output_type": "stream",
     "text": [
      "The base rate occurrence of cancer is 37.26%.\n"
     ]
    }
   ],
   "source": [
    "#Calculate the rate of breast cancer to number of observations\n",
    "rate = round((1-sum(df['target'])/len(df['target'])) * 100,2)\n",
    "print(\"The base rate occurrence of cancer is \" + str(rate) + \"%.\")"
   ]
  },
  {
   "cell_type": "markdown",
   "metadata": {},
   "source": [
    "**On random seeds:** Many functions in scikit-learn, including models as well as utilities,\n",
    "use randomization. For ease of grading, we will fix a random seed (we will use 101 throughout)\n",
    "so as to make behavior deterministic. This can generally be done by passing in `random_state=101` to\n",
    "the function; please consult documentation if unsure. Note to peer graders: this is purely for grading\n",
    "convenience. Do not penalize harshly if the random seed has not been set properly."
   ]
  },
  {
   "cell_type": "markdown",
   "metadata": {},
   "source": [
    "(b) The goal is to build a decision tree that, based on the other features in the set,\n",
    "predicts whether or not a patient has cancer.  So this is a classification problem.\n",
    "Using tree.DecisionTreeClassifier and other functions in the scikit-learn library, one can\n",
    "build a decision tree and calculate both its training accuracy when fitted to the entire data set\n",
    "as well as its accuracy using 10-fold cross validation (which gives a better idea of true accuracy).\n",
    "\n",
    "Vary the depth of your decision tree (use max_depth = $1, 2, \\dots, 10$) and plot both training\n",
    "accuracy and cross-validated accuracy (as a function of the depth, on the x-axis). Use 101 as your\n",
    "random seed. Plot both curves on the same plot and use a legend to label them."
   ]
  },
  {
   "cell_type": "code",
   "execution_count": 5,
   "metadata": {},
   "outputs": [],
   "source": [
    "#Separate the predictor and target variables\n",
    "X = df.iloc[:, 0:29]\n",
    "y = df.iloc[:, 30]"
   ]
  },
  {
   "cell_type": "code",
   "execution_count": 6,
   "metadata": {},
   "outputs": [
    {
     "data": {
      "text/plain": [
       "[]"
      ]
     },
     "execution_count": 6,
     "metadata": {},
     "output_type": "execute_result"
    },
    {
     "data": {
      "image/png": "[encoded data removed]",
      "text/plain": [
       "<Figure size 432x288 with 1 Axes>"
      ]
     },
     "metadata": {
      "needs_background": "light"
     },
     "output_type": "display_data"
    }
   ],
   "source": [
    "max_depth = range(1,11,1)\n",
    "max_depth_list = list(max_depth)\n",
    "\n",
    "full_score = [] \n",
    "cv_score = []\n",
    "\n",
    "for i in max_depth_list:\n",
    "    #Decision tree on full dataset\n",
    "    dt = tree.DecisionTreeClassifier(max_depth=i, random_state=101) \n",
    "    dt.fit(X,y)\n",
    "    full_pred = dt.predict(X)\n",
    "    full_score.append(accuracy_score(y,full_pred))\n",
    "    #Decision tree using 10-fold cross validation\n",
    "    scores = cross_val_score(dt, X, y, cv=10, scoring='accuracy')\n",
    "    dt_cv = np.mean(scores)\n",
    "    cv_score.append(dt_cv)\n",
    "\n",
    "#Plot results\n",
    "x = np.arange(len(max_depth_list)) + 1\n",
    "plt.plot(x, full_score, label='Full Set')\n",
    "plt.plot(x, cv_score, label='10-Fold Cross Validation')\n",
    "plt.xlabel('Maximum Depth')\n",
    "plt.ylabel('Accuracy Score')\n",
    "plt.legend()\n",
    "plt.plot()"
   ]
  },
  {
   "cell_type": "markdown",
   "metadata": {},
   "source": [
    "(c) Now try the random forest classifier of the scikit-learn library and use the best\n",
    "depth you get from (b) as max_depth. Vary the number of trees in the forest via the parameter\n",
    "n_estimators and plot its 10-fold cross-validated accuracy (use n_estimators = $1, 2, \\dots, 20$).\n",
    "Again, use 101 as your random seed. Do you see an improvement using random forests versus\n",
    "using a single tree? (Note: use the n_estimators=1 result as the result for a single tree.)"
   ]
  },
  {
   "cell_type": "markdown",
   "metadata": {},
   "source": [
    "**The best score from the 10-fold model came from using a max_depth of 6.  Since the improved returns in the full data set were minimal after using the same depth, the random forest model will use a max_depth of 6 also.**"
   ]
  },
  {
   "cell_type": "code",
   "execution_count": 7,
   "metadata": {},
   "outputs": [
    {
     "data": {
      "text/plain": [
       "[]"
      ]
     },
     "execution_count": 7,
     "metadata": {},
     "output_type": "execute_result"
    },
    {
     "data": {
      "image/png": "[encoded data removed]",
      "text/plain": [
       "<Figure size 432x288 with 1 Axes>"
      ]
     },
     "metadata": {
      "needs_background": "light"
     },
     "output_type": "display_data"
    }
   ],
   "source": [
    "n_estimators = range(1,21,1)\n",
    "n_estimators_list = list(n_estimators)\n",
    "\n",
    "rf_score = [] \n",
    "\n",
    "for i in n_estimators_list:\n",
    "    #Random forest on n_estimators list\n",
    "    rf = ensemble.RandomForestClassifier(n_estimators=i, max_depth=6, random_state=101) \n",
    "    rf.fit(X,y)\n",
    "    scores = cross_val_score(rf, X, y, cv=10, scoring='accuracy')\n",
    "    rf_cv = np.mean(scores)\n",
    "    rf_score.append(rf_cv)\n",
    "\n",
    "#Plot results\n",
    "x = np.arange(len(n_estimators)) + 1\n",
    "plt.plot(x, rf_score, label='Random Forest')\n",
    "plt.xlabel('N Estimators')\n",
    "plt.ylabel('Accuracy Score')\n",
    "plt.legend()\n",
    "plt.plot()"
   ]
  },
  {
   "cell_type": "markdown",
   "metadata": {},
   "source": [
    "**The random forest model improves upon the decision tree almost immediately.  While the decision tree accuracy howver within the .895 to .925 range, the random forest accuracy is consistently in the .945 to .955 range.**"
   ]
  },
  {
   "cell_type": "markdown",
   "metadata": {},
   "source": [
    "(d) Using the method for building a decision tree you used in part (b), build a tree\n",
    "but randomly hold out a $.2$,$.4$,$.6$, and $.8$ fraction of the data set (so you \n",
    "will need to build 4 different trees for each depth value). Use 101 as your random seed for both\n",
    "the train-test split as well as the decision tree.\n",
    "For each fraction held out, plot a curve of the test accuracy (the accuracy on the held-out\n",
    "set) against depth. You should have four curves. Plot them all on the same plot and use\n",
    "a legend to label them."
   ]
  },
  {
   "cell_type": "code",
   "execution_count": 8,
   "metadata": {},
   "outputs": [
    {
     "data": {
      "text/plain": [
       "[]"
      ]
     },
     "execution_count": 8,
     "metadata": {},
     "output_type": "execute_result"
    },
    {
     "data": {
      "image/png": "[encoded data removed]",
      "text/plain": [
       "<Figure size 432x288 with 1 Axes>"
      ]
     },
     "metadata": {
      "needs_background": "light"
     },
     "output_type": "display_data"
    }
   ],
   "source": [
    "X_train_20, X_test_20, y_train_20, y_test_20 = train_test_split(X, y, test_size = 0.20, random_state=101)\n",
    "X_train_40, X_test_40, y_train_40, y_test_40 = train_test_split(X, y, test_size = 0.40, random_state=101)\n",
    "X_train_60, X_test_60, y_train_60, y_test_60 = train_test_split(X, y, test_size = 0.60, random_state=101)\n",
    "X_train_80, X_test_80, y_train_80, y_test_80 = train_test_split(X, y, test_size = 0.80, random_state=101)\n",
    "\n",
    "max_depth = range(1,11,1)\n",
    "max_depth_list = list(max_depth)\n",
    "\n",
    "test_score_20 = [] \n",
    "test_score_40 = [] \n",
    "test_score_60 = [] \n",
    "test_score_80 = [] \n",
    "\n",
    "for i in max_depth_list:\n",
    "    dt = tree.DecisionTreeClassifier(max_depth=i, random_state=101)\n",
    "    #Run decision tree for 20% split\n",
    "    dt.fit(X_train_20,y_train_20)\n",
    "    pred_20 = dt.predict(X_test_20)\n",
    "    test_score_20.append(accuracy_score(y_test_20, pred_20))\n",
    "    #Run decision tree for 40% split\n",
    "    dt.fit(X_train_40,y_train_40)\n",
    "    pred_40 = dt.predict(X_test_40)\n",
    "    test_score_40.append(accuracy_score(y_test_40, pred_40))\n",
    "    #Run decision tree for 60% split\n",
    "    dt.fit(X_train_60,y_train_60)\n",
    "    pred_60 = dt.predict(X_test_60)\n",
    "    test_score_60.append(accuracy_score(y_test_60, pred_60))\n",
    "    #Run decision tree for 80% split\n",
    "    dt.fit(X_train_80,y_train_80)\n",
    "    pred_80 = dt.predict(X_test_80)\n",
    "    test_score_80.append(accuracy_score(y_test_80, pred_80))\n",
    "\n",
    "#Plot results\n",
    "x = np.arange(len(max_depth_list)) + 1\n",
    "plt.plot(x, test_score_20, label='20% Holdout')\n",
    "plt.plot(x, test_score_40, label='40% Holdout')\n",
    "plt.plot(x, test_score_60, label='60% Holdout')\n",
    "plt.plot(x, test_score_80, label='80% Holdout')\n",
    "plt.xlabel('Maximum Depth')\n",
    "plt.ylabel('Accuracy Score')\n",
    "plt.legend()\n",
    "plt.plot()"
   ]
  },
  {
   "cell_type": "markdown",
   "metadata": {},
   "source": [
    "**Early on, the 20% holdout set performs best.  However, the accuracy decreases as the max_depth increases.  Overall, the 60% holdout set performs best.  For each decision tree, there appears to be diminishing returns on test set accuracy once the depth becomes greater than 4.**"
   ]
  },
  {
   "cell_type": "code",
   "execution_count": null,
   "metadata": {},
   "outputs": [],
   "source": []
  }
 ],
 "metadata": {
  "colab": {
   "collapsed_sections": [],
   "name": "hw1-solution.ipynb",
   "provenance": []
  },
  "kernelspec": {
   "display_name": "Python 3",
   "language": "python",
   "name": "python3"
  },
  "language_info": {
   "codemirror_mode": {
    "name": "ipython",
    "version": 3
   },
   "file_extension": ".py",
   "mimetype": "text/x-python",
   "name": "python",
   "nbconvert_exporter": "python",
   "pygments_lexer": "ipython3",
   "version": "3.8.3"
  }
 },
 "nbformat": 4,
 "nbformat_minor": 1
}
